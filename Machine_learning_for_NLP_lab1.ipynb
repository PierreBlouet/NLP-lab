{
  "nbformat": 4,
  "nbformat_minor": 0,
  "metadata": {
    "kernelspec": {
      "display_name": "Python 3",
      "language": "python",
      "name": "python3"
    },
    "language_info": {
      "codemirror_mode": {
        "name": "ipython",
        "version": 3
      },
      "file_extension": ".py",
      "mimetype": "text/x-python",
      "name": "python",
      "nbconvert_exporter": "python",
      "pygments_lexer": "ipython3",
      "version": "3.5.2"
    },
    "colab": {
      "name": "Machine learning for NLP lab1",
      "provenance": [],
      "collapsed_sections": []
    }
  },
  "cells": [
    {
      "cell_type": "markdown",
      "metadata": {
        "id": "i6DnXSbVrEix"
      },
      "source": [
        "# Application of Deep Learning for Natural Langage Processing (NLP) 1 : A first example\n",
        "## Practical work - ENIB - Artificial Intelligence and Simulation module \n",
        "**Pierre De Loor**\n",
        "\n",
        "\n",
        "During this practical work, you will learn how ML can be use to process Natural Langage. We considere that the starting material are sentences syntaxically encoded (ASCII or other encoding) but not vocal signal which is another step for a full NLP system). \n",
        "The material I used to produce this notebook is mainly :\n",
        "1. Hands on natural langage processing with python: A practical guide to applying deep learning architectures to your NLP applications (Rajesh Arumugam and Rajalingappaa Shanmugamani)\n",
        "2. \n",
        "3. Deep learning with python (François Chollet)\n",
        "\n",
        "From these sentences, different tasks can be done :\n",
        "\n",
        "\n",
        "1.   Sentiment analysis : allows the classification of a text among different classes\n",
        "2.   Translation from one langage to another\n",
        "3.   Completion of sentences or texts\n",
        "4.   Generation of answers\n",
        "\n",
        "Even if there are a lot of technics to adress these tasks - statistics,linguistics knowledges, grammatical rules, logical inferences ([follow this link for more details](https://https://en.wikipedia.org/wiki/History_of_natural_language_processing))) - we will study the case of machine learning applications. As for artificial vision, the hope of the use of Deep Learning for NLP is to avoid the search of explicit knowledges about linguistics and grammar and to let the algorithm found them in the form of numerical values that define Deep Learning models. \n",
        "\n"
      ]
    },
    {
      "cell_type": "markdown",
      "metadata": {
        "id": "zlIy05CDq4oC"
      },
      "source": [
        "First, you must verify that keras is well accessible on your system:"
      ]
    },
    {
      "cell_type": "code",
      "metadata": {
        "id": "k0zAKYOnTqiD",
        "outputId": "12742262-e2f8-474f-a32b-a7817c0fe9ff",
        "colab": {
          "base_uri": "https://localhost:8080/",
          "height": 35
        }
      },
      "source": [
        "import keras\n",
        "keras.__version__"
      ],
      "execution_count": null,
      "outputs": [
        {
          "output_type": "execute_result",
          "data": {
            "application/vnd.google.colaboratory.intrinsic+json": {
              "type": "string"
            },
            "text/plain": [
              "'2.4.3'"
            ]
          },
          "metadata": {
            "tags": []
          },
          "execution_count": 1
        }
      ]
    },
    {
      "cell_type": "markdown",
      "metadata": {
        "id": "7MEzsEV2rw7X"
      },
      "source": [
        "Then we will study a first database that consist of binary labelled text"
      ]
    },
    {
      "cell_type": "markdown",
      "metadata": {
        "id": "Ic5deyzkq17M"
      },
      "source": [
        "# IMDB data\n",
        "IMDB dataset is a set of 50,000 highly-polarized reviews from the Internet Movie Database. They are split into 25,000 reviews for training and 25,000 reviews for testing, each set consisting in 50% negative and 50% positive reviews.\n",
        "\n",
        "Just like the MNIST dataset, the IMDB dataset comes packaged with Keras. It has already been preprocessed: the reviews (sequences of words) have been turned into sequences of integers, where each integer stands for a specific word in a dictionary (integer encoding).\n",
        "\n",
        "The following code will load the dataset (when you run it for the first time, about 80MB of data will be downloaded):"
      ]
    },
    {
      "cell_type": "code",
      "metadata": {
        "id": "SqMqDCmzrU0p",
        "outputId": "cc4a7c8d-a37f-4fc5-8fc1-10a600bf8003",
        "colab": {
          "base_uri": "https://localhost:8080/"
        }
      },
      "source": [
        "from keras.datasets import imdb\n",
        "\n",
        "(train_data, train_labels), (test_data, test_labels) = imdb.load_data(num_words=10000)"
      ],
      "execution_count": null,
      "outputs": [
        {
          "output_type": "stream",
          "text": [
            "Downloading data from https://storage.googleapis.com/tensorflow/tf-keras-datasets/imdb.npz\n",
            "17465344/17464789 [==============================] - 0s 0us/step\n"
          ],
          "name": "stdout"
        }
      ]
    },
    {
      "cell_type": "markdown",
      "metadata": {
        "id": "3AlUTrtprpW2"
      },
      "source": [
        "\n",
        "\n",
        "The argument `num_words=10000 ` means that we will only keep the top 10,000 most frequently occurring words in the training data. Rare words will be discarded. This allows us to work with vector data of manageable size.\n",
        "\n",
        "The variables `train_data` and `test_data` are lists of reviews, each review being a list of word indices (encoding a sequence of words). `train_labels` and `test_labels` are lists of 0s and 1s, where 0 stands for \"negative\" and 1 stands for \"positive\":\n"
      ]
    },
    {
      "cell_type": "code",
      "metadata": {
        "id": "wmuWqQzusj_R",
        "outputId": "40b91597-78da-45c6-a9b6-9669fe62fc71",
        "colab": {
          "base_uri": "https://localhost:8080/"
        }
      },
      "source": [
        "print(train_data[0])\n",
        "print(\"lenght : \", len(train_data[0]))\n"
      ],
      "execution_count": null,
      "outputs": [
        {
          "output_type": "stream",
          "text": [
            "[1, 14, 22, 16, 43, 530, 973, 1622, 1385, 65, 458, 4468, 66, 3941, 4, 173, 36, 256, 5, 25, 100, 43, 838, 112, 50, 670, 2, 9, 35, 480, 284, 5, 150, 4, 172, 112, 167, 2, 336, 385, 39, 4, 172, 4536, 1111, 17, 546, 38, 13, 447, 4, 192, 50, 16, 6, 147, 2025, 19, 14, 22, 4, 1920, 4613, 469, 4, 22, 71, 87, 12, 16, 43, 530, 38, 76, 15, 13, 1247, 4, 22, 17, 515, 17, 12, 16, 626, 18, 2, 5, 62, 386, 12, 8, 316, 8, 106, 5, 4, 2223, 5244, 16, 480, 66, 3785, 33, 4, 130, 12, 16, 38, 619, 5, 25, 124, 51, 36, 135, 48, 25, 1415, 33, 6, 22, 12, 215, 28, 77, 52, 5, 14, 407, 16, 82, 2, 8, 4, 107, 117, 5952, 15, 256, 4, 2, 7, 3766, 5, 723, 36, 71, 43, 530, 476, 26, 400, 317, 46, 7, 4, 2, 1029, 13, 104, 88, 4, 381, 15, 297, 98, 32, 2071, 56, 26, 141, 6, 194, 7486, 18, 4, 226, 22, 21, 134, 476, 26, 480, 5, 144, 30, 5535, 18, 51, 36, 28, 224, 92, 25, 104, 4, 226, 65, 16, 38, 1334, 88, 12, 16, 283, 5, 16, 4472, 113, 103, 32, 15, 16, 5345, 19, 178, 32]\n",
            "lenght :  218\n"
          ],
          "name": "stdout"
        }
      ]
    },
    {
      "cell_type": "code",
      "metadata": {
        "id": "nVnuIHNcs2Xm",
        "outputId": "89c4d373-048b-48f6-b2e9-6acb0838c17b",
        "colab": {
          "base_uri": "https://localhost:8080/"
        }
      },
      "source": [
        "train_labels[0]"
      ],
      "execution_count": null,
      "outputs": [
        {
          "output_type": "execute_result",
          "data": {
            "text/plain": [
              "1"
            ]
          },
          "metadata": {
            "tags": []
          },
          "execution_count": 4
        }
      ]
    },
    {
      "cell_type": "markdown",
      "metadata": {
        "id": "1RE3Xwo9t7SB"
      },
      "source": [
        "For kicks, here's how you can quickly decode one of these reviews back to English words:"
      ]
    },
    {
      "cell_type": "code",
      "metadata": {
        "id": "oC5MrWI_t8PY",
        "outputId": "3efdc8a7-c642-45f7-a26c-a97b35389628",
        "colab": {
          "base_uri": "https://localhost:8080/"
        }
      },
      "source": [
        "# word_index is a dictionary mapping words to an integer index\n",
        "word_index = imdb.get_word_index()\n",
        "# We reverse it, mapping integer indices to words\n",
        "reverse_word_index = dict([(value, key) for (key, value) in word_index.items()])\n",
        "# We decode the review; note that our indices were offset by 3\n",
        "# because 0, 1 and 2 are reserved indices for \"padding\", \"start of sequence\", and \"unknown\".\n",
        "decoded_review = ' '.join([reverse_word_index.get(i - 3, '?') for i in train_data[0]])"
      ],
      "execution_count": null,
      "outputs": [
        {
          "output_type": "stream",
          "text": [
            "Downloading data from https://storage.googleapis.com/tensorflow/tf-keras-datasets/imdb_word_index.json\n",
            "1646592/1641221 [==============================] - 0s 0us/step\n"
          ],
          "name": "stdout"
        }
      ]
    },
    {
      "cell_type": "code",
      "metadata": {
        "id": "F1s69VxIuSwo",
        "outputId": "2ef70b92-3e03-457d-d547-7fdf3904cd7f",
        "colab": {
          "base_uri": "https://localhost:8080/"
        }
      },
      "source": [
        "print(train_labels[0])\n",
        "print(decoded_review)"
      ],
      "execution_count": null,
      "outputs": [
        {
          "output_type": "stream",
          "text": [
            "1\n",
            "? this film was just brilliant casting location scenery story direction everyone's really suited the part they played and you could just imagine being there robert ? is an amazing actor and now the same being director ? father came from the same scottish island as myself so i loved the fact there was a real connection with this film the witty remarks throughout the film were great it was just brilliant so much that i bought the film as soon as it was released for ? and would recommend it to everyone to watch and the fly fishing was amazing really cried at the end it was so sad and you know what they say if you cry at a film it must have been good and this definitely was also ? to the two little boy's that played the ? of norman and paul they were just brilliant children are often left out of the ? list i think because the stars that play them all grown up are such a big profile for the whole film but these children are amazing and should be praised for what they have done don't you think the whole story was so lovely because it was true and was someone's life after all that was shared with us all\n"
          ],
          "name": "stdout"
        }
      ]
    },
    {
      "cell_type": "markdown",
      "metadata": {
        "id": "H9e9GcbMrb_F"
      },
      "source": [
        "# Question 1.1\n",
        "* What is the review of the 4th film ? What is it's class ? (`positive` or `negative` ?) \n",
        "\n",
        "* If you planed to learn these classes, which inputs did you use for a machine learning algorithm ? \n",
        "\n",
        "* What difficulties do you think you will encounter ?"
      ]
    },
    {
      "cell_type": "code",
      "metadata": {
        "id": "sYsZkPWKOKNP",
        "outputId": "9580d64c-56e9-404e-b2f7-e30b329bee7e",
        "colab": {
          "base_uri": "https://localhost:8080/"
        }
      },
      "source": [
        "#1.1 -1\n",
        "decoded_review = ' '.join([reverse_word_index.get(i - 3, '?') for i in train_data[3]])\n",
        "print('4th film review :' + decoded_review)\n",
        "print('review was : ' + str(train_labels[3]))\n",
        "# 0 stands for \"negative\" and 1 stands for \"positive\" so in that case it's positive review\n"
      ],
      "execution_count": null,
      "outputs": [
        {
          "output_type": "stream",
          "text": [
            "4th film review :? the ? ? at storytelling the traditional sort many years after the event i can still see in my ? eye an elderly lady my friend's mother retelling the battle of ? she makes the characters come alive her passion is that of an eye witness one to the events on the ? heath a mile or so from where she lives br br of course it happened many years before she was born but you wouldn't guess from the way she tells it the same story is told in bars the length and ? of scotland as i discussed it with a friend one night in ? a local cut in to give his version the discussion continued to closing time br br stories passed down like this become part of our being who doesn't remember the stories our parents told us when we were children they become our invisible world and as we grow older they maybe still serve as inspiration or as an emotional ? fact and fiction blend with ? role models warning stories ? magic and mystery br br my name is ? like my grandfather and his grandfather before him our protagonist introduces himself to us and also introduces the story that stretches back through generations it produces stories within stories stories that evoke the ? wonder of scotland its rugged mountains ? in ? the stuff of legend yet ? is ? in reality this is what gives it its special charm it has a rough beauty and authenticity ? with some of the finest ? singing you will ever hear br br ? ? visits his grandfather in hospital shortly before his death he burns with frustration part of him ? to be in the twenty first century to hang out in ? but he is raised on the western ? among a ? speaking community br br yet there is a deeper conflict within him he ? to know the truth the truth behind his ? ancient stories where does fiction end and he wants to know the truth behind the death of his parents br br he is pulled to make a last ? journey to the ? of one of ? most ? mountains can the truth be told or is it all in stories br br in this story about stories we ? bloody battles ? lovers the ? of old and the sometimes more ? ? of accepted truth in doing so we each connect with ? as he lives the story of his own life br br ? the ? ? is probably the most honest ? and genuinely beautiful film of scotland ever made like ? i got slightly annoyed with the ? of hanging stories on more stories but also like ? i ? this once i saw the ? picture ' forget the box office ? of braveheart and its like you might even ? the ? famous ? of the wicker man to see a film that is true to scotland this one is probably unique if you maybe ? on it deeply enough you might even re ? the power of storytelling and the age old question of whether there are some truths that cannot be told but only experienced\n",
            "review was : 1\n"
          ],
          "name": "stdout"
        }
      ]
    },
    {
      "cell_type": "markdown",
      "metadata": {
        "id": "BtU1txVKsLIj"
      },
      "source": [
        "# A first neural network to learn text classification\n"
      ]
    },
    {
      "cell_type": "markdown",
      "metadata": {
        "id": "LZPxPOGnSHVW"
      },
      "source": [
        "1.1 - 2 :\n",
        "We use for inputs index of words in the review and label . (train_data &train_labels)\n",
        "\n",
        "1.1 - 3 : \n",
        "The input shape of neural network will not be the same for each film. "
      ]
    },
    {
      "cell_type": "markdown",
      "metadata": {
        "id": "9ahsxe8kPnsg"
      },
      "source": [
        "# Encoding the data\n",
        "\n",
        "We cannot feed lists of integers into a neural network. We have to turn our lists into tensors. We could one-hot-encode our lists to turn them into vectors of 0s and 1s. Concretely, this would mean for instance turning the sequence [3, 5] into a 10,000-dimensional vector that would be all-zeros except for indices 3 and 5, which would be ones. Then we could use as first layer in our network a Dense layer, capable of handling floating point vector data."
      ]
    },
    {
      "cell_type": "markdown",
      "metadata": {
        "id": "q4IgxO8P-cxY"
      },
      "source": [
        "![oneHotDoc.png](data:image/png;base64,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)"
      ]
    },
    {
      "cell_type": "markdown",
      "metadata": {
        "id": "X-MBSOJ4DhH9"
      },
      "source": [
        "Question : "
      ]
    },
    {
      "cell_type": "code",
      "metadata": {
        "id": "Hu15hYB6QLr-"
      },
      "source": [
        "import numpy as np\n",
        "\n",
        "def vectorize_sequences(sequences, dimension=10000):\n",
        "    # Create an all-zero matrix of shape (len(sequences), dimension)\n",
        "    results = np.zeros((len(sequences), dimension))\n",
        "    for i, sequence in enumerate(sequences):\n",
        "        results[i, sequence] = 1.  # set specific indices of results[i] to 1s\n",
        "    return results\n",
        "\n",
        "# Our vectorized training data\n",
        "x_train = vectorize_sequences(train_data)\n",
        "# Our vectorized test data\n",
        "x_test = vectorize_sequences(test_data)"
      ],
      "execution_count": null,
      "outputs": []
    },
    {
      "cell_type": "markdown",
      "metadata": {
        "id": "D1Sm032mQbHH"
      },
      "source": [
        "Now, one sequence is such a vector :"
      ]
    },
    {
      "cell_type": "code",
      "metadata": {
        "id": "4cvTBTh5QfCB",
        "outputId": "9e103186-99fb-4534-cfec-f400661d1af7",
        "colab": {
          "base_uri": "https://localhost:8080/"
        }
      },
      "source": [
        "print(x_train[0])\n",
        "print(x_train[0][0])\n",
        "print(x_train[0][1])\n",
        "print(x_train[0][16])\n",
        "print(x_train[0][1622])\n",
        "print(x_train[0].size)\n",
        "print(x_train[1].size)\n",
        "\n",
        "print(x_train.size)\n",
        "\n"
      ],
      "execution_count": null,
      "outputs": [
        {
          "output_type": "stream",
          "text": [
            "[0. 1. 1. ... 0. 0. 0.]\n",
            "0.0\n",
            "1.0\n",
            "1.0\n",
            "1.0\n",
            "10000\n",
            "10000\n",
            "250000000\n"
          ],
          "name": "stdout"
        }
      ]
    },
    {
      "cell_type": "markdown",
      "metadata": {
        "id": "IC5W7PEbS6fI"
      },
      "source": [
        "**Question**\n",
        "\n",
        "Can you explain the values that are returned by the algorithm.\n",
        "\n",
        "\n",
        "The algorithm receive the list of lists of indexed worlds and return this list with a one hot encoding. "
      ]
    },
    {
      "cell_type": "markdown",
      "metadata": {
        "id": "8zNxNrB5_Kwr"
      },
      "source": [
        "To vectorize the labels we just have to write :"
      ]
    },
    {
      "cell_type": "code",
      "metadata": {
        "id": "shdd4kUu_PGD"
      },
      "source": [
        "y_train = np.asarray(train_labels).astype('float32')\n",
        "y_test = np.asarray(test_labels).astype('float32')"
      ],
      "execution_count": null,
      "outputs": []
    },
    {
      "cell_type": "markdown",
      "metadata": {
        "id": "dNQckV9C_5TF"
      },
      "source": [
        "# Building the network\n",
        "\n",
        "Our input data is simply vectors, and our labels are scalars (1s and 0s). A type of network that performs well on such a problem would be a simple stack of fully-connected (Dense) layers with `relu` activations (for instance: `Dense(16, \n",
        "activation='relu')` for 16 hidden units), a binary cross entropy loss function (see [here](https://gombru.github.io/2018/05/23/cross_entropy_loss/) for its definition) and an RMSprop optimizer (see its specificity  [here](https://towardsdatascience.com/understanding-rmsprop-faster-neural-network-learning-62e116fcf29a))\n",
        "\n",
        "\n",
        "\n",
        "\n"
      ]
    },
    {
      "cell_type": "markdown",
      "metadata": {
        "id": "iF4wGzK7IabA"
      },
      "source": [
        "![firstNN.png](data:image/png;base64,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)"
      ]
    },
    {
      "cell_type": "markdown",
      "metadata": {
        "id": "4PYMB1XDIZFx"
      },
      "source": [
        "For the moment, we will start with the following architecture choice: two intermediate layers with 16 hidden units each, and a third layer which will output the scalar prediction regarding the sentiment of the current review. The intermediate layers will use relu as their \"activation function\", and the final layer will use a sigmoid activation so as to output a probability (a score between 0 and 1, indicating how likely the sample is to have the target \"1\", i.e. how likely the review is to be positive). A relu (rectified linear unit) is a function meant to zero-out negative values, while a sigmoid \"squashes\" arbitrary values into the [0, 1] interval, thus outputting something that can be interpreted as a probability."
      ]
    },
    {
      "cell_type": "code",
      "metadata": {
        "id": "XXX6cHsNSnnz"
      },
      "source": [
        "from keras import models\n",
        "from keras import layers\n",
        "\n",
        "model = models.Sequential()\n",
        "model.add(layers.Dense(16, activation='relu', input_shape=(10000,)))\n",
        "model.add(layers.Dense(16, activation='relu'))\n",
        "model.add(layers.Dense(1, activation='sigmoid'))\n",
        "\n",
        "model.compile(optimizer='rmsprop',\n",
        "              loss='binary_crossentropy',\n",
        "              metrics=['accuracy'])\n",
        "\n",
        "x_val = x_train[:10000]\n",
        "partial_x_train = x_train[10000:]\n",
        "#print(len(partial_x_train))\n",
        "\n",
        "y_val = y_train[:10000]\n",
        "partial_y_train = y_train[10000:]"
      ],
      "execution_count": null,
      "outputs": []
    },
    {
      "cell_type": "markdown",
      "metadata": {
        "id": "5rNB9fQaTg4J"
      },
      "source": [
        "We will now train our model for 20 epochs (20 iterations over all samples in the `x_train` and `y_train` tensors), in mini-batches of 512 samples. \n",
        "A **mini-batch** is a sub-set of the training data. The model is uptaded after each mini-batch. After one iteration (also named **epochs**), all the training data are processed by the algorithm. The choice of using mini-batch or not is out of this course but is a parameter that can influence the performance of the gradient descent during learning.\n",
        "We will also monitor `loss` and `accuracy` on the 10,000 samples that we set apart. This is done by passing the validation data as the `validation_data` argument:\n",
        "\n"
      ]
    },
    {
      "cell_type": "code",
      "metadata": {
        "id": "brxLY8kbTx4z",
        "outputId": "9ef199f9-ade8-4a0f-d352-5002197642bf",
        "colab": {
          "base_uri": "https://localhost:8080/"
        }
      },
      "source": [
        "history = model.fit(partial_x_train,\n",
        "                    partial_y_train,\n",
        "                    epochs=20,\n",
        "                    batch_size=512,\n",
        "                    validation_data=(x_val, y_val))"
      ],
      "execution_count": null,
      "outputs": [
        {
          "output_type": "stream",
          "text": [
            "Epoch 1/20\n",
            "30/30 [==============================] - 1s 39ms/step - loss: 0.1710 - accuracy: 0.9530 - val_loss: 0.2844 - val_accuracy: 0.8880\n",
            "Epoch 2/20\n",
            "30/30 [==============================] - 1s 34ms/step - loss: 0.1330 - accuracy: 0.9607 - val_loss: 0.2915 - val_accuracy: 0.8857\n",
            "Epoch 3/20\n",
            "30/30 [==============================] - 1s 34ms/step - loss: 0.1053 - accuracy: 0.9701 - val_loss: 0.3005 - val_accuracy: 0.8844\n",
            "Epoch 4/20\n",
            "30/30 [==============================] - 1s 34ms/step - loss: 0.0876 - accuracy: 0.9755 - val_loss: 0.3265 - val_accuracy: 0.8821\n",
            "Epoch 5/20\n",
            "30/30 [==============================] - 1s 34ms/step - loss: 0.0723 - accuracy: 0.9827 - val_loss: 0.3452 - val_accuracy: 0.8812\n",
            "Epoch 6/20\n",
            "30/30 [==============================] - 1s 34ms/step - loss: 0.0593 - accuracy: 0.9843 - val_loss: 0.3769 - val_accuracy: 0.8776\n",
            "Epoch 7/20\n",
            "30/30 [==============================] - 1s 35ms/step - loss: 0.0484 - accuracy: 0.9883 - val_loss: 0.3993 - val_accuracy: 0.8744\n",
            "Epoch 8/20\n",
            "30/30 [==============================] - 1s 35ms/step - loss: 0.0414 - accuracy: 0.9901 - val_loss: 0.4302 - val_accuracy: 0.8741\n",
            "Epoch 9/20\n",
            "30/30 [==============================] - 1s 35ms/step - loss: 0.0305 - accuracy: 0.9940 - val_loss: 0.4551 - val_accuracy: 0.8726\n",
            "Epoch 10/20\n",
            "30/30 [==============================] - 1s 34ms/step - loss: 0.0244 - accuracy: 0.9960 - val_loss: 0.4898 - val_accuracy: 0.8696\n",
            "Epoch 11/20\n",
            "30/30 [==============================] - 1s 34ms/step - loss: 0.0213 - accuracy: 0.9957 - val_loss: 0.5329 - val_accuracy: 0.8673\n",
            "Epoch 12/20\n",
            "30/30 [==============================] - 1s 34ms/step - loss: 0.0166 - accuracy: 0.9975 - val_loss: 0.5583 - val_accuracy: 0.8678\n",
            "Epoch 13/20\n",
            "30/30 [==============================] - 1s 34ms/step - loss: 0.0130 - accuracy: 0.9983 - val_loss: 0.5897 - val_accuracy: 0.8677\n",
            "Epoch 14/20\n",
            "30/30 [==============================] - 1s 34ms/step - loss: 0.0106 - accuracy: 0.9991 - val_loss: 0.6510 - val_accuracy: 0.8664\n",
            "Epoch 15/20\n",
            "30/30 [==============================] - 1s 34ms/step - loss: 0.0061 - accuracy: 0.9999 - val_loss: 0.6627 - val_accuracy: 0.8640\n",
            "Epoch 16/20\n",
            "30/30 [==============================] - 1s 34ms/step - loss: 0.0085 - accuracy: 0.9984 - val_loss: 0.6922 - val_accuracy: 0.8649\n",
            "Epoch 17/20\n",
            "30/30 [==============================] - 1s 35ms/step - loss: 0.0044 - accuracy: 0.9993 - val_loss: 0.7607 - val_accuracy: 0.8648\n",
            "Epoch 18/20\n",
            "30/30 [==============================] - 1s 34ms/step - loss: 0.0029 - accuracy: 0.9999 - val_loss: 0.7618 - val_accuracy: 0.8622\n",
            "Epoch 19/20\n",
            "30/30 [==============================] - 1s 35ms/step - loss: 0.0066 - accuracy: 0.9983 - val_loss: 0.8006 - val_accuracy: 0.8621\n",
            "Epoch 20/20\n",
            "30/30 [==============================] - 1s 34ms/step - loss: 0.0016 - accuracy: 0.9999 - val_loss: 0.8199 - val_accuracy: 0.8624\n"
          ],
          "name": "stdout"
        }
      ]
    },
    {
      "cell_type": "markdown",
      "metadata": {
        "id": "w2PePBlsUMX8"
      },
      "source": [
        "Note that the call to model.fit() returns a History object. This object has a member history, which is a dictionary containing data about everything that happened during training. Let's take a look at it:"
      ]
    },
    {
      "cell_type": "code",
      "metadata": {
        "id": "qLBr0AzSUNSJ",
        "outputId": "32d6cca9-d50d-4e66-e991-8c5c5bc0a88c",
        "colab": {
          "base_uri": "https://localhost:8080/"
        }
      },
      "source": [
        "history_dict = history.history\n",
        "history_dict.keys()"
      ],
      "execution_count": null,
      "outputs": [
        {
          "output_type": "execute_result",
          "data": {
            "text/plain": [
              "dict_keys(['loss', 'accuracy', 'val_loss', 'val_accuracy'])"
            ]
          },
          "metadata": {
            "tags": []
          },
          "execution_count": 26
        }
      ]
    },
    {
      "cell_type": "markdown",
      "metadata": {
        "id": "hhKxnW6TUP-C"
      },
      "source": [
        "\n",
        "\n",
        "It contains 4 entries: one per metric that was being monitored, during training and during validation. Let's use Matplotlib to plot the training and validation loss side by side, as well as the training and validation accuracy:\n"
      ]
    },
    {
      "cell_type": "code",
      "metadata": {
        "id": "3_k_hn08UTso",
        "outputId": "7ccfe594-de62-4ca4-f562-11b3266339da",
        "colab": {
          "base_uri": "https://localhost:8080/",
          "height": 295
        }
      },
      "source": [
        "import matplotlib.pyplot as plt\n",
        "\n",
        "acc = history.history['accuracy']\n",
        "val_acc = history.history['val_accuracy']\n",
        "loss = history.history['loss']\n",
        "val_loss = history.history['val_loss']\n",
        "\n",
        "epochs = range(1, len(acc) + 1)\n",
        "\n",
        "# \"bo\" is for \"blue dot\"\n",
        "plt.plot(epochs, loss, 'bo', label='Training loss')\n",
        "# b is for \"solid blue line\"\n",
        "plt.plot(epochs, val_loss, 'b', label='Validation loss')\n",
        "plt.title('Training and validation loss')\n",
        "plt.xlabel('Epochs')\n",
        "plt.ylabel('Loss')\n",
        "plt.legend()\n",
        "\n",
        "plt.show()"
      ],
      "execution_count": null,
      "outputs": [
        {
          "output_type": "display_data",
          "data": {
            "image/png": "[encoded data removed]",
            "text/plain": [
              "<Figure size 432x288 with 1 Axes>"
            ]
          },
          "metadata": {
            "tags": [],
            "needs_background": "light"
          }
        }
      ]
    },
    {
      "cell_type": "code",
      "metadata": {
        "id": "gA1cCw0bP4Wy",
        "outputId": "2de6b571-9a38-4f8d-cbb0-d84b54d035b2",
        "colab": {
          "base_uri": "https://localhost:8080/",
          "height": 295
        }
      },
      "source": [
        "plt.clf()   # clear figure\n",
        "acc_values = history_dict['accuracy']\n",
        "val_acc_values = history_dict['val_accuracy']\n",
        "\n",
        "plt.plot(epochs, acc, 'bo', label='Training acc')\n",
        "plt.plot(epochs, val_acc, 'b', label='Validation acc')\n",
        "plt.title('Training and validation accuracy')\n",
        "plt.xlabel('Epochs')\n",
        "plt.ylabel('Loss')\n",
        "plt.legend()\n",
        "\n",
        "plt.show()"
      ],
      "execution_count": null,
      "outputs": [
        {
          "output_type": "display_data",
          "data": {
            "image/png": "[encoded data removed]",
            "text/plain": [
              "<Figure size 432x288 with 1 Axes>"
            ]
          },
          "metadata": {
            "tags": [],
            "needs_background": "light"
          }
        }
      ]
    },
    {
      "cell_type": "markdown",
      "metadata": {
        "id": "_8JuqJh5P5eB"
      },
      "source": [
        "# Question 1.2\n",
        "* What is best loss/accuracy finded by the algorithm ?\n",
        "\n",
        "The best is at epoch 5/20\n",
        "\n",
        "\n",
        "* Can you explain these curves ?\n",
        "\n",
        "\n",
        "We see that for trainning accuracy will increase and loose will decrease because the neural network is trainning on this data \n",
        "\n",
        "With the validation data accuracy will increase until epoch 5. Then we are in overfitting case so the accuracy will decrease. \n",
        "\n",
        "* What is the name of the observed phenomena ?\n",
        "\n",
        "It's called over fitting \n",
        "\n",
        "* What do you propose to improve them ?\n",
        "\n",
        "We should reduce the epoch to 5 because then it's overfitting \n",
        "\n",
        "We could use larger trainning data and we could also remove neutral worlds like horse tree ... \n",
        "We could also remove worlds that occured not realy often ( this mean change the num_words value when loading the dataset. \n"
      ]
    },
    {
      "cell_type": "markdown",
      "metadata": {
        "id": "CkMdiAhv25Xn"
      },
      "source": [
        "The predictions done for each test data is obtain with:"
      ]
    },
    {
      "cell_type": "code",
      "metadata": {
        "id": "DGKoFmJX23oJ"
      },
      "source": [
        "modelResult = model.predict(x_test)"
      ],
      "execution_count": null,
      "outputs": []
    },
    {
      "cell_type": "markdown",
      "metadata": {
        "id": "0S6nHXYf1FMr"
      },
      "source": [
        "One of the goal is to optimize this accuracy (for this example some proposition lead to an accuracy of 95%). For that, the model could be changed (number of layers, number of cells) but often, a preprocessing of the data is a better choice. For instance, **in the previous example, the sequences of the words in the documents are not encoded. The number of occurences of each word in the documents are not encoded too... It could be relevant to identifying certain patterns that could have a \"signification\".**"
      ]
    },
    {
      "cell_type": "markdown",
      "metadata": {
        "id": "z-w2yc43GQU8"
      },
      "source": [
        "#Question 1.3 : \n",
        "* For the 10 first data, print the value of the labels of the data (found in the database) and a the value computed by the model.\n",
        "\n",
        "* Among this 10 cases, identify one data with a value that seems clearly not valuated by the algortihm\n",
        "\n",
        "* Print the content of these data and try to explain what can be the problem ? "
      ]
    },
    {
      "cell_type": "code",
      "metadata": {
        "id": "n95OdXBWxGD2",
        "outputId": "27c81e59-35c2-4de2-d986-7abfbedfeb00",
        "colab": {
          "base_uri": "https://localhost:8080/"
        }
      },
      "source": [
        "for i in range(10) : \n",
        "  print(y_test[i],'--->',modelResult[i])\n",
        "  if(y_test[i] != round(float(modelResult[i]))) : \n",
        "    print('Problem :')\n",
        "    decoded_review = ' '.join([reverse_word_index.get(i - 3, '?') for i in test_data[i]])\n",
        "    print(decoded_review)\n",
        "    print(' ')\n",
        "\n",
        "\n",
        "\n",
        "\n"
      ],
      "execution_count": null,
      "outputs": [
        {
          "output_type": "stream",
          "text": [
            "0.0 ---> [0.00278524]\n",
            "1.0 ---> [1.]\n",
            "1.0 ---> [0.9861657]\n",
            "0.0 ---> [0.97290945]\n",
            "Problem :\n",
            "? i generally love this type of movie however this time i found myself wanting to kick the screen since i can't do that i will just complain about it this was absolutely idiotic the things that happen with the dead kids are very cool but the alive people are absolute idiots i am a grown man pretty big and i can defend myself well however i would not do half the stuff the little girl does in this movie also the mother in this movie is reckless with her children to the point of neglect i wish i wasn't so angry about her and her actions because i would have otherwise enjoyed the flick what a number she was take my advise and fast forward through everything you see her do until the end also is anyone else getting sick of watching movies that are filmed so dark anymore one can hardly see what is being filmed as an audience we are ? involved with the actions on the screen so then why the hell can't we have night vision\n",
            " \n",
            "1.0 ---> [0.99946654]\n",
            "1.0 ---> [0.9999033]\n",
            "1.0 ---> [0.00229472]\n",
            "Problem :\n",
            "? originally supposed to be just a part of a huge epic the year ? depicting the revolution of ? ? is the story of the ? of the crew of the ? in ? harbor the film opens with the crew ? meat and the captain ? the execution of the an ? takes place during which the revolutionary leader is killed this ? is taken to the shore to lie in state when the ? gather on a huge flight of steps ? the harbor ? troops appear and march down the steps breaking up the crowd a naval ? is sent to ? the ? but at the moment when the ships come into range their ? allow the to pass through ? non historically accurate ending is open ended thus ? that this was the seed of the later ? revolution that would bloom in russia the film is broken into five parts men and ? drama on the an appeal from the dead the ? steps and meeting the ? br br ? was a revolutionary artist but at the genius level not wanting to make a historical drama ? used visual ? to give the film a ? look so that the viewer feels he is ? on a thrilling and politically revolutionary story this technique is used by the battle of ? br br unlike ? relied on or the casting of non professionals who had striking physical appearances the extraordinary faces of the cast are what one remembers from ? this technique is later used by frank ? in mr deeds goes to town and meet john ? but in ? no one individual is cast as a hero or heroine the story is told through a series of scenes that are combined in a special effect known as montage the editing and selection of short segments to produce a desired effect on the viewer d w griffith also used the montage but no one ? it so well as ? br br the artistic filming of the crew sleeping in their is ? by the ? swinging of tables suspended from chains in the ? in contrast the confrontation between the crew and their officers is charged with electricity and the ? ? of the masses demonstrate their rage with injustice br br ? introduced the technique of showing an action and repeating it again but from a slightly different angle to demonstrate intensity the breaking of a plate bearing the words give us this day our daily bread ? the beginning of the end this technique is used in last year at ? also when the ? surgeon is tossed over the side his ? ? from the ? it was these glasses that the officer used to ? and pass the ? ? meat this sequence ties the punishment to the corruption of the ? era br br the most noted sequence in the film and perhaps in all of film history is the ? steps the broad ? of the steps are filled with hundreds of extras rapid and dramatic violence is always suggested and not explicit yet the visual images of the deaths of a few will last in the minds of the viewer forever br br the ? shots of ? boots and legs ? the steps are cleverly ? with long menacing shadows from a sun at the top of the steps the pace of the sequence is deliberately varied between the ? soldiers and a few civilians who ? up courage to beg them to stop a close up of a woman's face frozen in horror after being struck by a ? sword is the direct ? of the bank ? in bonnie in clyde and gives a lasting impression of the horror of the ? regime br br the death of a young mother leads to a baby ? ? down the steps in a sequence that has been copied by hitchcock in foreign ? by terry gilliam in brazil and brian ? in the ? this sequence is shown repeatedly from various angles thus drawing out what probably was only a five second event br br ? is a film that the revolutionary spirit ? it for those already committed and it for the ? it ? of fire and ? with the senseless ? of the ? ? regime its greatest impact has been on film students who have borrowed and only slightly improved on techniques invented in russia several generations ago\n",
            " \n",
            "0.0 ---> [7.2450666e-06]\n",
            "0.0 ---> [0.9689865]\n",
            "Problem :\n",
            "? hollywood had a long love affair with bogus ? nights tales but few of these products have stood the test of time the most memorable were the jon hall maria ? films which have long since become camp this one is filled with dubbed songs ? ? and slapstick it's a truly crop of corn and pretty near ? today it was nominated for its imaginative special effects which are almost ? in this day and age ? mainly of trick photography the only outstanding positive feature which survives is its beautiful color and clarity sad to say of the many films made in this genre few of them come up to alexander ? original thief of ? almost any other ? nights film is superior to this one though it's a loser\n",
            " \n",
            "1.0 ---> [1.]\n"
          ],
          "name": "stdout"
        }
      ]
    },
    {
      "cell_type": "markdown",
      "metadata": {
        "id": "-NErrmPTmP56"
      },
      "source": [
        "1.3 : the problem is that people explain what they like in a movie but conclude by why they doesn't like it. "
      ]
    },
    {
      "cell_type": "markdown",
      "metadata": {
        "id": "cSek1gAw3VnQ"
      },
      "source": [
        "# Question 1.4\n",
        "\n",
        "* Try to use 1 or 3 hidden layers\n",
        "\n",
        "* Try to use layers with more hidden units or less hidden units: 32 units, 64 units...\n",
        "\n",
        "* For the fourth combination of number of layers and number of units, give the best accuracy obtained. \n",
        "\n",
        "\n"
      ]
    },
    {
      "cell_type": "markdown",
      "metadata": {
        "id": "SqfB-2rHmPQL"
      },
      "source": [
        ""
      ]
    },
    {
      "cell_type": "markdown",
      "metadata": {
        "id": "IWpOAK8cXmOd"
      },
      "source": [
        "#END of PART 1"
      ]
    }
  ]
}